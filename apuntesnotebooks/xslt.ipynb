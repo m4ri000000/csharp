{
 "cells": [
  {
   "cell_type": "markdown",
   "metadata": {},
   "source": [
    "Vamos a ver como realizar un XSLT dado un documento XML. Los unicos metodos de xslt que tenemos que aprender son: xsl:template, xsl:apply-templates y xsl:value-of."
   ]
  },
  {
   "cell_type": "markdown",
   "metadata": {},
   "source": [
    "<?xml version=\"1.0\" encoding=\"UTF-8\"?>\n",
    "<cifp nombre=\"CIFP Cesar Manrique\" web=\"https://cifpcesarmanrique.es\" >\n",
    " <ciclos>\n",
    " <ciclo id=\"ASIR\">\n",
    " <nombre>Administración de Sistemas Informáticos en Red</nombre>\n",
    " <grado>Superior</grado>\n",
    " <decretoTitulo año=\"2009\" />\n",
    " </ciclo>\n",
    " <ciclo id=\"DAW\">\n",
    " <nombre>Desarrollo de Aplicaciones Web</nombre>\n",
    " <grado>Superior</grado>\n",
    " <decretoTitulo año=\"2010\" />\n",
    " </ciclo>\n",
    " <ciclo id=\"SMR\">\n",
    " <nombre>Sistemas Microinformáticos y Redes</nombre>\n",
    " <grado>Medio</grado>\n",
    " <decretoTitulo año=\"2008\" />\n",
    " </ciclo>\n",
    " </ciclos>\n",
    "</cifp>"
   ]
  },
  {
   "cell_type": "markdown",
   "metadata": {},
   "source": [
    "Para conseguir un XSLT que nos diga solo las etiquetas del anterior XML vamos a necesitar crear unas plantillas que permitiran conseguir lo que nos solicita el enunciado. "
   ]
  },
  {
   "cell_type": "markdown",
   "metadata": {},
   "source": [
    "?xml version=\"1.0\" encoding=\"UTF-8\"?>\n",
    "<xsl:stylesheet version=\"1.0\" xmlns:xsl=\"http://www.w3.org/1999/XSL/Transform\">"
   ]
  },
  {
   "cell_type": "markdown",
   "metadata": {},
   "source": [
    "empiezo por la plantilla principal que va a ser relacionada con el elemento raiz."
   ]
  },
  {
   "cell_type": "markdown",
   "metadata": {},
   "source": [
    "<xsl:template match=\"/\">\n",
    "    <xsl:apply-templates select=\"cifp/ciclos/ciclo\" />\n",
    "  </xsl:template>"
   ]
  },
  {
   "cell_type": "markdown",
   "metadata": {},
   "source": [
    "a continuacion, creo la plantilla que asocio a cifp/ciclos/ciclo que va a ser:"
   ]
  },
  {
   "cell_type": "markdown",
   "metadata": {},
   "source": [
    "<xsl:template match=\"ciclo\">\n",
    "    <xsl:value-of select=\"nombre\" />\n",
    "</xsl:template>"
   ]
  },
  {
   "cell_type": "markdown",
   "metadata": {},
   "source": [
    "Como ves, la logica detras del XSLT sera siempre la siguiente, describo el aspecto que quiero que tenga el elemento raiz, y aplico una segunda plantilla al elemento hijo que va a aparecer en el elemento raiz. Vamos a ver otros ejemplos:"
   ]
  },
  {
   "cell_type": "markdown",
   "metadata": {},
   "source": [
    "<!-- html parrafos -->\n",
    "\n",
    "<?xml version=\"1.0\" encoding=\"UTF-8\"?>\n",
    "<xsl:stylesheet version=\"1.0\" xmlns:xsl=\"http://www.w3.org/1999/XSL/Transform\">\n",
    "  <xsl:output method=\"html\" encoding=\"UTF-8\" />\n",
    "\n",
    "  <xsl:template match=\"/\">\n",
    "    <html>\n",
    "      <xsl:apply-templates select=\"cifp/ciclos/ciclo\" />\n",
    "    </html>\n",
    "  </xsl:template>\n",
    "\n",
    "  <xsl:template match=\"ciclo\">\n",
    "    <p>\n",
    "      <xsl:value-of select=\"nombre\" />\n",
    "    </p>\n",
    "  </xsl:template>\n",
    "</xsl:stylesheet>"
   ]
  },
  {
   "cell_type": "markdown",
   "metadata": {},
   "source": [
    "<!-- html lista -->\n",
    "\n",
    "<?xml version=\"1.0\" encoding=\"UTF-8\"?>\n",
    "<xsl:stylesheet version=\"1.0\" xmlns:xsl=\"http://www.w3.org/1999/XSL/Transform\">\n",
    "  <xsl:output method=\"html\" encoding=\"UTF-8\" />\n",
    "\n",
    "  <xsl:template match=\"/\">\n",
    "    <html>\n",
    "      <ul>\n",
    "        <xsl:apply-templates select=\"cifp/ciclos/ciclo\" />\n",
    "      </ul>\n",
    "    </html>\n",
    "  </xsl:template>\n",
    "\n",
    "  <xsl:template match=\"ciclo\">\n",
    "    <li>\n",
    "      <xsl:value-of select=\"nombre\" />\n",
    "    </li>\n",
    "  </xsl:template>\n",
    "</xsl:stylesheet>"
   ]
  },
  {
   "cell_type": "markdown",
   "metadata": {},
   "source": [
    "<!-- html tabla -->\n",
    "\n",
    "<?xml version=\"1.0\" encoding=\"UTF-8\"?>\n",
    "<xsl:stylesheet version=\"1.0\" xmlns:xsl=\"http://www.w3.org/1999/XSL/Transform\">\n",
    "  <xsl:output method=\"html\" encoding=\"UTF-8\" />\n",
    "\n",
    "  <xsl:template match=\"/\">\n",
    "    <html>\n",
    "      <table border=\"1\">\n",
    "        <xsl:apply-templates select=\"cifp/ciclos/ciclo\" />\n",
    "      </table>\n",
    "    </html>\n",
    "  </xsl:template>\n",
    "\n",
    "  <xsl:template match=\"ciclo\">\n",
    "    <tr>\n",
    "      <td>\n",
    "        <xsl:value-of select=\"nombre\" />\n",
    "      </td>\n",
    "    </tr>\n",
    "  </xsl:template>\n",
    "</xsl:stylesheet>"
   ]
  },
  {
   "cell_type": "markdown",
   "metadata": {},
   "source": [
    "<!-- html de solo parrafos con un h1-->\n",
    "\n",
    "<?xml version=\"1.0\" encoding=\"UTF-8\"?>\n",
    "<xsl:stylesheet version=\"1.0\" xmlns:xsl=\"http://www.w3.org/1999/XSL/Transform\">\n",
    "  <xsl:output method=\"html\" encoding=\"UTF-8\" />\n",
    "\n",
    "  <xsl:template match=\"/\">\n",
    "    <html>\n",
    "      <h1>\n",
    "        <xsl:value-of select=\"cifp/@nombre\" />\n",
    "      </h1>\n",
    "      <xsl:apply-templates select=\"cifp/ciclos/ciclo\" />\n",
    "    </html>\n",
    "  </xsl:template>\n",
    "\n",
    "  <xsl:template match=\"ciclo\">\n",
    "    <p>\n",
    "      <xsl:value-of select=\"nombre\" />\n",
    "    </p>\n",
    "  </xsl:template>\n",
    "</xsl:stylesheet>\n"
   ]
  },
  {
   "cell_type": "markdown",
   "metadata": {},
   "source": [
    "<!-- html de lista con un href a la pagina web y con un h1-->\n",
    "\n",
    "<?xml version=\"1.0\" encoding=\"UTF-8\"?>\n",
    "<xsl:stylesheet version=\"1.0\" xmlns:xsl=\"http://www.w3.org/1999/XSL/Transform\">\n",
    "  <xsl:output method=\"html\" encoding=\"UTF-8\" />\n",
    "\n",
    "  <xsl:template match=\"/\">\n",
    "    <html>\n",
    "      <h1>\n",
    "        <xsl:value-of select=\"cifp/@nombre\" />\n",
    "      </h1>\n",
    "      <p>\n",
    "        Página web: <a href=\"{cifp/@web}\">\n",
    "          <xsl:value-of select=\"cifp/@web\" />\n",
    "        </a>\n",
    "      </p>\n",
    "      <ul>\n",
    "        <xsl:apply-templates select=\"cifp/ciclos/ciclo\" />\n",
    "      </ul>\n",
    "    </html>\n",
    "  </xsl:template>\n",
    "\n",
    "  <xsl:template match=\"ciclo\">\n",
    "    <li>\n",
    "      <xsl:value-of select=\"nombre\" />\n",
    "    </li>\n",
    "  </xsl:template>\n",
    "</xsl:stylesheet>"
   ]
  },
  {
   "cell_type": "markdown",
   "metadata": {},
   "source": [
    "<!-- html con un h1, un p con href, una tabla con tr y th-->\n",
    "\n",
    "<?xml version=\"1.0\" encoding=\"UTF-8\"?>\n",
    "<xsl:stylesheet version=\"1.0\" xmlns:xsl=\"http://www.w3.org/1999/XSL/Transform\">\n",
    "  <xsl:output method=\"html\" encoding=\"UTF-8\" />\n",
    "\n",
    "  <xsl:template match=\"/\">\n",
    "    <html>\n",
    "      <h1>\n",
    "        <xsl:value-of select=\"cifp/@nombre\" />\n",
    "      </h1>\n",
    "      <p>\n",
    "        Página web: <a href=\"{cifp/@web}\">\n",
    "          <xsl:value-of select=\"cifp/@web\" />\n",
    "        </a>\n",
    "      </p>\n",
    "      <table border=\"1\">\n",
    "        <tr>\n",
    "          <th>Nombre del ciclo</th>\n",
    "          <th>Grado</th>\n",
    "          <th>Año del título</th>\n",
    "        </tr>\n",
    "        <xsl:apply-templates select=\"cifp/ciclos/ciclo\" />\n",
    "      </table>\n",
    "    </html>\n",
    "  </xsl:template>\n",
    "\n",
    "  <xsl:template match=\"ciclo\">\n",
    "    <tr>\n",
    "      <td>\n",
    "        <xsl:value-of select=\"nombre\" />\n",
    "      </td>\n",
    "      <td>\n",
    "        <xsl:value-of select=\"grado\" />\n",
    "      </td>\n",
    "      <td>\n",
    "        <xsl:value-of select=\"decretoTitulo/@año\" />\n",
    "      </td>\n",
    "    </tr>\n",
    "  </xsl:template>\n",
    "</xsl:stylesheet>"
   ]
  },
  {
   "cell_type": "markdown",
   "metadata": {},
   "source": [
    "Vamos a ver el ejercicio 2, aqui tendremos q transformar las etiquetas en atributos y cambiar el formato del xml!"
   ]
  },
  {
   "cell_type": "markdown",
   "metadata": {},
   "source": [
    "<?xml version=\"1.0\" encoding=\"UTF-8\"?>\n",
    "<museos>\n",
    " <museo>\n",
    " <nombre>Museo del Prado</nombre>\n",
    " <ciudad>Madrid</ciudad>\n",
    " <pais>España</pais>\n",
    " </museo>\n",
    " <museo>\n",
    " <nombre>British Museum</nombre>\n",
    " <ciudad>Londres</ciudad>\n",
    " <pais>Reino Unido</pais>\n",
    " </museo>\n",
    " <museo>\n",
    " <nombre>National Gallery</nombre>\n",
    " <ciudad>Londres</ciudad>\n",
    " <pais>Reino Unido</pais>\n",
    " </museo>\n",
    "</museos>"
   ]
  },
  {
   "cell_type": "markdown",
   "metadata": {},
   "source": [
    "<!-- xml en el que las etiquetas son atributos-->\n",
    "<?xml version=\"1.0\" encoding=\"UTF-8\"?>\n",
    "<xsl:stylesheet version=\"1.0\" xmlns:xsl=\"http://www.w3.org/1999/XSL/Transform\">\n",
    "  <xsl:output method=\"xml\" encoding=\"UTF-8\" />\n",
    "\n",
    "  <xsl:template match=\"/\">\n",
    "    <museos>\n",
    "      <xsl:apply-templates select=\"museos/museo\" />\n",
    "    </museos>\n",
    "  </xsl:template>\n",
    "\n",
    "  <xsl:template match=\"museo\">\n",
    "    <museo \n",
    "      nombre=\"{nombre}\" \n",
    "      ciudad=\"{ciudad}\" \n",
    "      pais=\"{pais}\" />\n",
    "  </xsl:template>\n",
    "</xsl:stylesheet>"
   ]
  },
  {
   "cell_type": "markdown",
   "metadata": {},
   "source": [
    "<!-- algunas etiquetas como atributos-->\n",
    "<?xml version=\"1.0\" encoding=\"UTF-8\"?>\n",
    "<xsl:stylesheet version=\"1.0\" xmlns:xsl=\"http://www.w3.org/1999/XSL/Transform\">\n",
    "  <xsl:output method=\"xml\" encoding=\"UTF-8\" />\n",
    "\n",
    "  <xsl:template match=\"/\">\n",
    "    <museos>\n",
    "      <xsl:apply-templates select=\"museos/museo\" />\n",
    "    </museos>\n",
    "  </xsl:template>\n",
    "\n",
    "  <xsl:template match=\"museo\">\n",
    "    <museo \n",
    "      nombre=\"{nombre}\">\n",
    "      <xsl:attribute name=\"ciudad\">\n",
    "        <xsl:value-of select=\"ubicacion/@ciudad\" />\n",
    "      </xsl:attribute>\n",
    "      <xsl:attribute name=\"pais\">\n",
    "        <xsl:value-of select=\"ubicacion/@pais\" />\n",
    "      </xsl:attribute>\n",
    "    </museo>\n",
    "  </xsl:template>\n",
    "</xsl:stylesheet>"
   ]
  },
  {
   "cell_type": "markdown",
   "metadata": {},
   "source": [
    "<!-- cambiar la estructura del documento-->\n",
    "<?xml version=\"1.0\" encoding=\"UTF-8\"?>\n",
    "<xsl:stylesheet version=\"1.0\" xmlns:xsl=\"http://www.w3.org/1999/XSL/Transform\">\n",
    "  <xsl:output method=\"xml\" encoding=\"UTF-8\" />\n",
    "\n",
    "  <xsl:template match=\"/\">\n",
    "    <ciudades>\n",
    "      <xsl:apply-templates select=\"ciudades/ciudad\" />\n",
    "    </ciudades>\n",
    "  </xsl:template>\n",
    "\n",
    "  <xsl:template match=\"ciudad\">\n",
    "    <ciudad>\n",
    "      <nombre>\n",
    "        <xsl:value-of select=\"nombre\" />\n",
    "      </nombre>\n",
    "      <pais>\n",
    "        <xsl:value-of select=\"pais\" />\n",
    "      </pais>\n",
    "      <museo>\n",
    "        <xsl:value-of select=\"museo\" />\n",
    "      </museo>\n",
    "    </ciudad>\n",
    "  </xsl:template>\n",
    "</xsl:stylesheet>"
   ]
  },
  {
   "cell_type": "markdown",
   "metadata": {},
   "source": [
    "<!-- cambiar la estructura del documento y algunas etiquetas como atributos-->\n",
    "<?xml version=\"1.0\" encoding=\"UTF-8\"?>\n",
    "<xsl:stylesheet version=\"1.0\" xmlns:xsl=\"http://www.w3.org/1999/XSL/Transform\">\n",
    "  <xsl:output method=\"xml\" encoding=\"UTF-8\" />\n",
    "\n",
    "  <xsl:template match=\"/\">\n",
    "    <ciudades>\n",
    "      <xsl:apply-templates select=\"ciudades/ciudad\" />\n",
    "    </ciudades>\n",
    "  </xsl:template>\n",
    "\n",
    "  <xsl:template match=\"ciudad\">\n",
    "    <ciudad \n",
    "      nombre=\"{@nombre}\" \n",
    "      pais=\"{@pais}\">\n",
    "      <museo>\n",
    "        <xsl:value-of select=\"museo\" />\n",
    "      </museo>\n",
    "    </ciudad>\n",
    "  </xsl:template>\n",
    "</xsl:stylesheet>"
   ]
  },
  {
   "cell_type": "markdown",
   "metadata": {},
   "source": [
    "<!-- cambiar la estructura del documento y algunas etiquetas como atributos-->\n",
    "<?xml version=\"1.0\" encoding=\"UTF-8\"?>\n",
    "<paises>\n",
    " <pais nombre=\"España\">\n",
    " <museo museo=\"Museo del Prado\" ciudad=\"Madrid\"/>\n",
    " </pais>\n",
    " <pais nombre=\"Reino Unido\">\n",
    " <museo museo=\"British Museum\" ciudad=\"Londres\"/>\n",
    " </pais>\n",
    " <pais nombre=\"Reino Unido\">\n",
    " <museo museo=\"National Gallery\" ciudad=\"Londres\"/>\n",
    " </pais>\n",
    "</paises>"
   ]
  },
  {
   "cell_type": "markdown",
   "metadata": {},
   "source": [
    "Vamos a trabajar con otro XML, el del ejercicio 3."
   ]
  },
  {
   "cell_type": "markdown",
   "metadata": {},
   "source": [
    "<?xml version=\"1.0\" encoding=\"UTF-8\"?>\n",
    "<biblioteca>\n",
    " <libro>\n",
    " <titulo>La vida está en otra parte</titulo>\n",
    " <autor>Milan Kundera</autor>\n",
    " <fechaPublicacion año=\"1973\"/>\n",
    " <puntos>5</puntos>\n",
    " </libro>\n",
    " <libro>\n",
    " <titulo>Pantaleón y las visitadoras</titulo>\n",
    " <autor fechaNacimiento=\"28/03/1936\">Mario Vargas Llosa</autor>\n",
    " <fechaPublicacion año=\"1973\"/>\n",
    " <puntos>3</puntos>\n",
    " </libro>\n",
    " <libro>\n",
    " <titulo>Conversación en la catedral</titulo>\n",
    " <autor fechaNacimiento=\"28/03/1936\">Mario Vargas Llosa</autor>\n",
    " <fechaPublicacion año=\"1969\"/>\n",
    " <puntos>4</puntos>\n",
    " </libro>\n",
    " <libro>\n",
    " <titulo>Reina Roja</titulo>\n",
    " <autor>Juan Gómez Jurado</autor>\n",
    " <fechaPublicacion año=\"2010\"/>\n",
    " <puntos>5</puntos>\n",
    " </libro>\n",
    " <libro>\n",
    " <titulo>Loba Negra</titulo>\n",
    " <autor>Juan Gómez Jurado</autor>\n",
    " <fechaPublicacion año=\"2014\"/>\n",
    " <puntos>4</puntos>\n",
    " </libro>\n",
    " <libro>\n",
    " <titulo>Rey Blanco</titulo>\n",
    " <autor>Juan Gómez Jurado</autor>\n",
    " <fechaPublicacion año=\"2018\"/>\n",
    " <puntos>4.5</puntos>\n",
    " </libro>\n",
    "</biblioteca>"
   ]
  },
  {
   "cell_type": "markdown",
   "metadata": {},
   "source": [
    "<!-- html en el que los titulos aparecen despues de \"titulo -\" y en una lista-->\n",
    "<?xml version=\"1.0\" encoding=\"UTF-8\"?>\n",
    "<xsl:stylesheet version=\"1.0\" xmlns:xsl=\"http://www.w3.org/1999/XSL/Transform\">\n",
    "  <xsl:output method=\"html\" encoding=\"UTF-8\" />\n",
    "\n",
    "  <xsl:template match=\"/\">\n",
    "    <html>\n",
    "      <head>\n",
    "        <title>Biblioteca</title>\n",
    "      </head>\n",
    "      <body>\n",
    "        <h1>Listado Libros</h1>\n",
    "        <ul>\n",
    "          <xsl:apply-templates select=\"biblioteca/libro\" />\n",
    "        </ul>\n",
    "      </body>\n",
    "    </html>\n",
    "  </xsl:template>\n",
    "\n",
    "  <xsl:template match=\"libro\">\n",
    "    <li> Título - <xsl:value-of select=\"titulo\" /></li>\n",
    "  </xsl:template>\n",
    "</xsl:stylesheet>"
   ]
  },
  {
   "cell_type": "markdown",
   "metadata": {},
   "source": [
    "<!-- html con el titulo, autor y año de publicación-->\n",
    "<?xml version=\"1.0\" encoding=\"UTF-8\"?>\n",
    "<xsl:stylesheet version=\"1.0\" xmlns:xsl=\"http://www.w3.org/1999/XSL/Transform\">\n",
    "  <xsl:output method=\"html\" encoding=\"UTF-8\" />\n",
    "\n",
    "  <xsl:template match=\"/\">\n",
    "    <html>\n",
    "      <head>\n",
    "        <title>Biblioteca</title>\n",
    "      </head>\n",
    "      <body>\n",
    "        <h1>Listado Libros</h1>\n",
    "        <ul>\n",
    "          <xsl:apply-templates select=\"biblioteca/libro\" />\n",
    "        </ul>\n",
    "      </body>\n",
    "    </html>\n",
    "  </xsl:template>\n",
    "\n",
    "  <xsl:template match=\"libro\">\n",
    "    <li>\n",
    "      Título - <xsl:value-of select=\"titulo\" />\n",
    "      (<xsl:value-of select=\"autor\" /> - <xsl:value-of select=\"fechaPublicacion/@año\" />)\n",
    "    </li>\n",
    "  </xsl:template>\n",
    "</xsl:stylesheet>\n"
   ]
  },
  {
   "cell_type": "markdown",
   "metadata": {},
   "source": [
    "<!-- html con una tabla que muestra los libros con sus posiciones y puntuaciones-->\n",
    "<?xml version=\"1.0\" encoding=\"UTF-8\"?>\n",
    "<xsl:stylesheet version=\"1.0\" xmlns:xsl=\"http://www.w3.org/1999/XSL/Transform\">\n",
    "  <xsl:output method=\"html\" encoding=\"UTF-8\" />\n",
    "\n",
    "  <xsl:template match=\"/\">\n",
    "    <html>\n",
    "      <head>\n",
    "        <title>Biblioteca</title>\n",
    "      </head>\n",
    "      <body>\n",
    "        <h1>Libros con puntuación</h1>\n",
    "        <table border=\"1\">\n",
    "          <tr>\n",
    "            <th>Posición</th>\n",
    "            <th>Título</th>\n",
    "            <th>Puntos</th>\n",
    "          </tr>\n",
    "          <xsl:apply-templates select=\"biblioteca/libro\" />\n",
    "        </table>\n",
    "      </body>\n",
    "    </html>\n",
    "  </xsl:template>\n",
    "\n",
    "  <xsl:template match=\"libro\">\n",
    "    <tr>\n",
    "      <td>\n",
    "        <xsl:value-of select=\"position()\" />\n",
    "      </td>\n",
    "      <td>\n",
    "        <xsl:value-of select=\"titulo\" />\n",
    "      </td>\n",
    "      <td>\n",
    "        <xsl:value-of select=\"puntos\" />\n",
    "      </td>\n",
    "    </tr>\n",
    "  </xsl:template>\n",
    "</xsl:stylesheet>"
   ]
  },
  {
   "cell_type": "markdown",
   "metadata": {},
   "source": [
    "Vamos a ver ahora los ultimos ejercicios, este es el xml:"
   ]
  },
  {
   "cell_type": "markdown",
   "metadata": {},
   "source": [
    "<catalogo>\n",
    " <libro isbn=\"i1\">\n",
    " <titulo>Don Quijote</titulo>\n",
    " <autores>\n",
    " <autor nacimiento=\"1547\">Cervantes</autor>\n",
    " </autores>\n",
    " </libro>\n",
    " <libro isbn=\"i2\">\n",
    " <titulo>Antologia</titulo>\n",
    " <autores>\n",
    " <autor nacimiento=\"1898\">Lorca</autor>\n",
    " <autor nacimiento=\"1910\">Miguel Hernandez</autor>\n",
    " </autores>\n",
    " </libro>\n",
    "</catalogo>"
   ]
  },
  {
   "cell_type": "markdown",
   "metadata": {},
   "source": [
    "<!-- html lista numerada-->\n",
    "<?xml version=\"1.0\" encoding=\"UTF-8\"?>\n",
    "<xsl:stylesheet version=\"1.0\" xmlns:xsl=\"http://www.w3.org/1999/XSL/Transform\">\n",
    "  <xsl:output method=\"html\" indent=\"yes\"/>\n",
    "  <xsl:template match=\"/\">\n",
    "    <html>\n",
    "      <body>\n",
    "        <h2>Autores</h2>\n",
    "        <ol>\n",
    "          <xsl:apply-templates select=\"//autor\"/>\n",
    "        </ol>\n",
    "      </body>\n",
    "    </html>\n",
    "  </xsl:template>\n",
    "  <xsl:template match=\"autor\">\n",
    "    <li>\n",
    "      <xsl:value-of select=\".\"/>\n",
    "    </li>\n",
    "  </xsl:template>\n",
    "</xsl:stylesheet>"
   ]
  },
  {
   "cell_type": "markdown",
   "metadata": {},
   "source": [
    "<!--html con tabla con el autor y año de nacimiento-->\n",
    "<?xml version=\"1.0\" encoding=\"UTF-8\"?>\n",
    "<xsl:stylesheet version=\"1.0\" xmlns:xsl=\"http://www.w3.org/1999/XSL/Transform\">\n",
    "  <xsl:output method=\"html\" indent=\"yes\"/>\n",
    "  <xsl:template match=\"/\">\n",
    "    <html>\n",
    "      <body>\n",
    "        <table border=\"1\">\n",
    "          <tr>\n",
    "            <td>Autor</td>\n",
    "            <td>Año de Nacimiento</td>\n",
    "          </tr>\n",
    "          <xsl:apply-templates select=\"//autor\"/>\n",
    "        </table>\n",
    "      </body>\n",
    "    </html>\n",
    "  </xsl:template>\n",
    "  <xsl:template match=\"autor\">\n",
    "    <tr>\n",
    "      <td><xsl:value-of select=\".\"/></td>\n",
    "      <td><xsl:value-of select=\"./@nacimiento\"/></td>\n",
    "    </tr>\n",
    "  </xsl:template>\n",
    "</xsl:stylesheet>"
   ]
  }
 ],
 "metadata": {
  "kernelspec": {
   "display_name": ".NET (C#)",
   "language": "C#",
   "name": ".net-csharp"
  },
  "polyglot_notebook": {
   "kernelInfo": {
    "defaultKernelName": "html",
    "items": [
     {
      "aliases": [],
      "languageName": "html",
      "name": "html"
     }
    ]
   }
  }
 },
 "nbformat": 4,
 "nbformat_minor": 2
}
