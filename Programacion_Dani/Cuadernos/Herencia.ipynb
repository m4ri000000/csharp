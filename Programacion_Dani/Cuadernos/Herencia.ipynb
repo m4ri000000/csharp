{
 "cells": [
  {
   "cell_type": "markdown",
   "metadata": {},
   "source": [
    "### ¿Qué es la herencia en C#?\n",
    "\n",
    "La **herencia** es uno de los pilares fundamentales de la programación orientada a objetos (POO) en C#. Permite que una clase (llamada **clase derivada** o **subclase**) herede miembros (como propiedades, métodos y eventos) de otra clase (llamada **clase base** o **superclase**). Esto facilita la reutilización de código, la organización jerárquica y la extensibilidad de las clases.\n",
    "\n",
    "---\n",
    "\n",
    "### Características principales de la herencia\n",
    "\n",
    "1. **Reutilización de código**:\n",
    "   - La clase derivada puede usar los miembros de la clase base sin necesidad de reescribirlos.\n",
    "   \n",
    "2. **Extensibilidad**:\n",
    "   - La clase derivada puede agregar nuevos miembros o modificar el comportamiento de los miembros heredados.\n",
    "\n",
    "3. **Jerarquía de clases**:\n",
    "   - Permite crear una estructura jerárquica de clases, donde las clases más específicas heredan de clases más generales.\n",
    "\n",
    "4. **Polimorfismo**:\n",
    "   - La herencia es la base para el polimorfismo, que permite que una clase derivada pueda ser tratada como una instancia de su clase base.\n",
    "\n",
    "---\n",
    "\n",
    "### Sintaxis básica de la herencia en C#\n",
    "\n",
    "En C#, la herencia se implementa utilizando el operador `:` (dos puntos) al definir una clase derivada.\n",
    "\n"
   ]
  },
  {
   "cell_type": "code",
   "execution_count": 1,
   "metadata": {
    "dotnet_interactive": {
     "language": "csharp"
    },
    "polyglot_notebook": {
     "kernelName": "csharp"
    },
    "vscode": {
     "languageId": "polyglot-notebook"
    }
   },
   "outputs": [],
   "source": [
    "public class ClaseBase {\n",
    "    public void MetodoBase() {\n",
    "        Console.WriteLine(\"Método de la clase base\");\n",
    "    }\n",
    "}\n",
    "\n",
    "public class ClaseDerivada : ClaseBase {\n",
    "    public void MetodoDerivado() {\n",
    "        Console.WriteLine(\"Método de la clase derivada\");\n",
    "    }\n",
    "}"
   ]
  },
  {
   "cell_type": "markdown",
   "metadata": {},
   "source": [
    "**Uso:**"
   ]
  },
  {
   "cell_type": "code",
   "execution_count": 2,
   "metadata": {
    "dotnet_interactive": {
     "language": "csharp"
    },
    "polyglot_notebook": {
     "kernelName": "csharp"
    },
    "vscode": {
     "languageId": "polyglot-notebook"
    }
   },
   "outputs": [
    {
     "name": "stdout",
     "output_type": "stream",
     "text": [
      "Método de la clase base\n",
      "Método de la clase derivada\n"
     ]
    }
   ],
   "source": [
    "ClaseDerivada objeto = new ClaseDerivada();\n",
    "objeto.MetodoBase();    // Heredado de ClaseBase\n",
    "objeto.MetodoDerivado(); // Definido en ClaseDerivada"
   ]
  },
  {
   "cell_type": "markdown",
   "metadata": {},
   "source": [
    "```mermaid\n",
    "classDiagram\n",
    "    Base <|-- Derivada\n",
    "```"
   ]
  },
  {
   "cell_type": "markdown",
   "metadata": {},
   "source": [
    "---\n",
    "### Tipos de herencia en C#\n",
    "\n",
    "1. **Herencia simple**:\n",
    "   - En C#, una clase solo puede heredar directamente de una clase base. No se permite la herencia múltiple directa (es decir, una clase no puede heredar de dos o más clases al mismo tiempo)."
   ]
  },
  {
   "cell_type": "code",
   "execution_count": 3,
   "metadata": {
    "dotnet_interactive": {
     "language": "csharp"
    },
    "polyglot_notebook": {
     "kernelName": "csharp"
    },
    "vscode": {
     "languageId": "polyglot-notebook"
    }
   },
   "outputs": [],
   "source": [
    "   public class Animal { }\n",
    "   public class Perro : Animal { } // Correcto"
   ]
  },
  {
   "cell_type": "markdown",
   "metadata": {},
   "source": [
    "2. **Herencia multinivel**:\n",
    "   - Una clase puede heredar de otra clase que, a su vez, hereda de una tercera clase."
   ]
  },
  {
   "cell_type": "code",
   "execution_count": 1,
   "metadata": {
    "dotnet_interactive": {
     "language": "csharp"
    },
    "polyglot_notebook": {
     "kernelName": "csharp"
    },
    "vscode": {
     "languageId": "polyglot-notebook"
    }
   },
   "outputs": [],
   "source": [
    "   public class Animal { }\n",
    "   public class Mamifero : Animal { }\n",
    "   public class Perro : Mamifero { } // Perro hereda de Mamifero, que hereda de Animal"
   ]
  },
  {
   "cell_type": "markdown",
   "metadata": {},
   "source": [
    "3. **Herencia de interfaces**:\n",
    "   - Aunque no es herencia en el sentido tradicional, una clase puede implementar múltiples interfaces, lo que permite simular ciertos aspectos de la herencia múltiple."
   ]
  },
  {
   "cell_type": "code",
   "execution_count": 2,
   "metadata": {
    "dotnet_interactive": {
     "language": "csharp"
    },
    "polyglot_notebook": {
     "kernelName": "csharp"
    },
    "vscode": {
     "languageId": "polyglot-notebook"
    }
   },
   "outputs": [],
   "source": [
    "   public interface ICorrer { void Correr(); }\n",
    "   public interface INadar { void Nadar(); }\n",
    "\n",
    "   public class Perro : Mamifero, ICorrer, INadar\n",
    "   {\n",
    "       public void Correr() { Console.WriteLine(\"Corriendo\"); }\n",
    "       public void Nadar() { Console.WriteLine(\"Nadando\"); }\n",
    "   }\n",
    "\n"
   ]
  },
  {
   "cell_type": "markdown",
   "metadata": {},
   "source": [
    "```mermaid\n",
    "classDiagram\n",
    "    Mamifero <|-- Perro\n",
    "    Perro ..|> ICorrer\n",
    "    Perro ..|> INadar\n",
    "```"
   ]
  },
  {
   "cell_type": "markdown",
   "metadata": {},
   "source": [
    "---\n",
    "### Miembros heredados y modificadores de acceso\n",
    "\n",
    "- **Miembros públicos y protegidos**:\n",
    "  - Los miembros `public` y `protected` de la clase base son accesibles en la clase derivada.\n",
    "  - Los miembros `private` no son accesibles en la clase derivada.\n"
   ]
  },
  {
   "cell_type": "code",
   "execution_count": null,
   "metadata": {
    "dotnet_interactive": {
     "language": "csharp"
    },
    "polyglot_notebook": {
     "kernelName": "csharp"
    },
    "vscode": {
     "languageId": "polyglot-notebook"
    }
   },
   "outputs": [
    {
     "name": "stdout",
     "output_type": "stream",
     "text": [
      "1\n",
      "1\n",
      "2\n",
      "50\n"
     ]
    }
   ],
   "source": [
    "\n",
    "public class ClaseBase\n",
    "{\n",
    "    private int _privado = 1;\n",
    "    protected int _protegido = 2;\n",
    "    public int Publico = 3;\n",
    "\n",
    "    public int Privado{\n",
    "        get {return _privado;}\n",
    "    }\n",
    "\n",
    "    public int GetAtributoPrivado(){\n",
    "        return _privado;\n",
    "    }\n",
    "}\n",
    "\n",
    "public class ClaseDerivada : ClaseBase\n",
    "{\n",
    "    public void Mostrar()\n",
    "    {\n",
    "        //Console.WriteLine(_privado); // Error: _privado no es accesible\n",
    "        Console.WriteLine(Privado);\n",
    "        // Privado=0; Error: Privado es de solo lectura\n",
    "        Console.WriteLine(GetAtributoPrivado()); // Correcto: _privado se accede a traves del metodo getter.\n",
    "\n",
    "        Console.WriteLine(_protegido); // Correcto: _protegido es accesible\n",
    "        Console.WriteLine(Publico);    // Correcto: Publico es accesible\n",
    "    }\n",
    "}\n",
    "\n",
    "\n",
    "ClaseDerivada cd = new ClaseDerivada();\n",
    "cd.Publico=50;\n",
    "cd.Mostrar(); \n",
    "\n",
    "\n",
    "Console.WriteLine(cd._protected);"
   ]
  },
  {
   "cell_type": "markdown",
   "metadata": {},
   "source": [
    "\n",
    "\n",
    "---\n",
    "\n",
    "### Sobrescritura de métodos (`override`)\n",
    "\n",
    "En C#, puedes sobrescribir métodos de la clase base en la clase derivada utilizando las palabras clave `virtual` y `override`.\n",
    "\n"
   ]
  },
  {
   "cell_type": "code",
   "execution_count": null,
   "metadata": {
    "dotnet_interactive": {
     "language": "csharp"
    },
    "polyglot_notebook": {
     "kernelName": "csharp"
    },
    "vscode": {
     "languageId": "polyglot-notebook"
    }
   },
   "outputs": [
    {
     "name": "stdout",
     "output_type": "stream",
     "text": [
      "Sonido genérico de animal\n",
      "Guau guau\n",
      "Guau guau\n"
     ]
    }
   ],
   "source": [
    "public class Animal {\n",
    "    // public abstract void HacerSonido();\n",
    "    public virtual void HacerSonido() {\n",
    "        Console.WriteLine(\"Sonido genérico de animal\");\n",
    "    }\n",
    "}\n",
    "\n",
    "public class Perro : Animal {\n",
    "    public override void HacerSonido() {\n",
    "        Console.WriteLine(\"Guau guau\");\n",
    "    }\n",
    "}\n",
    "\n",
    "new Animal().HacerSonido();\n",
    "new Perro().HacerSonido();\n",
    "Animal x = new Perro();\n",
    "x.HacerSonido(); // ¿qué hará?"
   ]
  },
  {
   "cell_type": "markdown",
   "metadata": {},
   "source": [
    "**Uso:**"
   ]
  },
  {
   "cell_type": "code",
   "execution_count": 8,
   "metadata": {
    "dotnet_interactive": {
     "language": "csharp"
    },
    "polyglot_notebook": {
     "kernelName": "csharp"
    },
    "vscode": {
     "languageId": "polyglot-notebook"
    }
   },
   "outputs": [
    {
     "name": "stdout",
     "output_type": "stream",
     "text": [
      "Guau guau\n"
     ]
    }
   ],
   "source": [
    "\n",
    "Animal miAnimal = new Perro();\n",
    "miAnimal.HacerSonido(); // \"Guau guau\" (se llama al método sobrescrito en Perro)\n"
   ]
  },
  {
   "cell_type": "markdown",
   "metadata": {},
   "source": [
    "\n",
    "\n",
    "---\n",
    "\n",
    "### Constructores y herencia\n",
    "\n",
    "Los constructores no se heredan, pero la clase derivada `SIEMPRE` ejecuta un constructor de la clase base (ya sea implícita o explícitamente) antes de ejecutarse él mismo.\n",
    "\n"
   ]
  },
  {
   "cell_type": "code",
   "execution_count": 7,
   "metadata": {
    "dotnet_interactive": {
     "language": "csharp"
    },
    "polyglot_notebook": {
     "kernelName": "csharp"
    },
    "vscode": {
     "languageId": "polyglot-notebook"
    }
   },
   "outputs": [],
   "source": [
    "public class ClaseBase {\n",
    "    public ClaseBase() {\n",
    "        Console.WriteLine(\"Constructor por defecto de la clase base\");\n",
    "    }\n",
    "    public ClaseBase(string mensaje) {\n",
    "        Console.WriteLine(mensaje);\n",
    "    }\n",
    "}\n",
    "\n",
    "public class ClaseDerivada : ClaseBase {\n",
    "    public ClaseDerivada(String msg) {\n",
    "        Console.WriteLine($\"Constructor con parámetros de la clase derivada {msg}. \");\n",
    "\n",
    "    }\n",
    "    public ClaseDerivada() {\n",
    "        Console.WriteLine(\"Constructor de la clase derivada\");\n",
    "    }\n",
    "}"
   ]
  },
  {
   "cell_type": "markdown",
   "metadata": {},
   "source": [
    "**Uso:**"
   ]
  },
  {
   "cell_type": "code",
   "execution_count": 8,
   "metadata": {
    "dotnet_interactive": {
     "language": "csharp"
    },
    "polyglot_notebook": {
     "kernelName": "csharp"
    },
    "vscode": {
     "languageId": "polyglot-notebook"
    }
   },
   "outputs": [
    {
     "name": "stdout",
     "output_type": "stream",
     "text": [
      "Constructor por defecto de la clase base\n",
      "Constructor de la clase derivada\n",
      "Constructor por defecto de la clase base\n",
      "Constructor con parámetros de la clase derivada Hola. \n"
     ]
    }
   ],
   "source": [
    "ClaseDerivada objeto = new ClaseDerivada();\n",
    "ClaseDerivada objeto1 = new ClaseDerivada(\"Hola\");\n",
    "// Salida:\n",
    "// Constructor de la clase base\n",
    "// Constructor de la clase derivada"
   ]
  },
  {
   "cell_type": "markdown",
   "metadata": {},
   "source": [
    "---\n",
    "### Ejemplo completo"
   ]
  },
  {
   "cell_type": "code",
   "execution_count": 2,
   "metadata": {
    "dotnet_interactive": {
     "language": "csharp"
    },
    "polyglot_notebook": {
     "kernelName": "csharp"
    },
    "vscode": {
     "languageId": "polyglot-notebook"
    }
   },
   "outputs": [],
   "source": [
    "public class Vehiculo {\n",
    "    public string Marca { get; set; }\n",
    "    public int NumeroRuedas { get; private set; } \n",
    "    public Vehiculo(int numRuedas){\n",
    "        NumeroRuedas = numRuedas;\n",
    "    }\n",
    "\n",
    "    public virtual void Arrancar() {\n",
    "        Console.WriteLine(\"El vehículo está arrancando\");\n",
    "    }\n",
    "}\n",
    "\n",
    "public class Coche : Vehiculo {\n",
    "    public int NumeroPuertas { get; set; }\n",
    "    public Coche():base(4){}\n",
    "\n",
    "    public override void Arrancar() {\n",
    "        Console.WriteLine(\"El coche está arrancando\");\n",
    "    }\n",
    "}"
   ]
  },
  {
   "cell_type": "markdown",
   "metadata": {},
   "source": [
    "**Uso:**"
   ]
  },
  {
   "cell_type": "code",
   "execution_count": 12,
   "metadata": {
    "dotnet_interactive": {
     "language": "csharp"
    },
    "polyglot_notebook": {
     "kernelName": "csharp"
    },
    "vscode": {
     "languageId": "polyglot-notebook"
    }
   },
   "outputs": [
    {
     "name": "stdout",
     "output_type": "stream",
     "text": [
      "El coche está arrancando\n",
      "Marca: Toyota, Puertas: 4\n"
     ]
    }
   ],
   "source": [
    "Coche miCoche = new Coche { Marca = \"Toyota\", NumeroPuertas = 4 };\n",
    "miCoche.Arrancar(); // \"El coche está arrancando\"\n",
    "Console.WriteLine($\"Marca: {miCoche.Marca}, Puertas: {miCoche.NumeroPuertas}\");"
   ]
  },
  {
   "cell_type": "markdown",
   "metadata": {},
   "source": [
    "---\n",
    "### Resumen\n",
    "\n",
    "- La herencia permite que una clase derive de otra, reutilizando y extendiendo su funcionalidad.\n",
    "- En C#, una clase solo puede heredar directamente de una clase base (herencia simple).\n",
    "- Los miembros `public` y `protected` de la clase base son accesibles en la clase derivada.\n",
    "- Los métodos se pueden sobrescribir en la clase derivada usando `virtual` y `override`.\n",
    "- Siempre se ejecuta alguno de los constructores de la clase base.\n",
    "- La herencia es fundamental para el polimorfismo y la organización jerárquica de clases."
   ]
  }
 ],
 "metadata": {
  "kernelspec": {
   "display_name": ".NET (C#)",
   "language": "C#",
   "name": ".net-csharp"
  },
  "language_info": {
   "name": "csharp"
  },
  "polyglot_notebook": {
   "kernelInfo": {
    "defaultKernelName": "csharp",
    "items": [
     {
      "aliases": [],
      "name": "csharp"
     }
    ]
   }
  }
 },
 "nbformat": 4,
 "nbformat_minor": 2
}
